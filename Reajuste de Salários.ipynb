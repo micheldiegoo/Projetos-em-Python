{
 "cells": [
  {
   "cell_type": "code",
   "execution_count": 2,
   "id": "64a7e912",
   "metadata": {},
   "outputs": [
    {
     "name": "stdout",
     "output_type": "stream",
     "text": [
      "Digite o salário: 1600\n",
      "O salário digitado foi 1600.0. O aumento foi de 80.0. Foi aplicado o reajuste de 0.05 % e o novo salário passa a ser de 1680.0 reais\n"
     ]
    }
   ],
   "source": [
    "#8. As Organizações Tabajara resolveram dar um aumento de salário aos seus colaboradores e lhe contrataram para desenvolver o\n",
    "# programa que calculará os reajustes.\n",
    "\n",
    "#Faça um programa que recebe o salário de um colaborador e o reajuste segundo o seguinte critério, baseado no salário atual:\n",
    "\n",
    "    #salários até R$ 280,00 (incluindo) : aumento de 20%\n",
    "    #salários entre R$ 280,00 e R$ 700,00 : aumento de 15%\n",
    "    #salários entre R$ 700,00 e R$ 1500,00 : aumento de 10%\n",
    "    #salários de R$ 1500,00 em diante : aumento de 5% Após o aumento ser realizado, informe na tela:\n",
    "    #o salário antes do reajuste;\n",
    "    #o percentual de aumento aplicado;\n",
    "    #o valor do aumento;\n",
    "    #o novo salário, após o aumento.\n",
    "\n",
    "\n",
    "\n",
    "salario = float(input('Digite o salário: '))\n",
    "if salario <= 280.00:\n",
    "    aumento_salario_faixa = 0.20\n",
    "    salario_reajustado = (aumento_salario_faixa * salario) + salario\n",
    "elif salario > 280.00 and salario <= 700.00:\n",
    "    aumento_salario_faixa = 0.15\n",
    "    salario_reajustado = (aumento_salario_faixa * salario) + salario\n",
    "elif salario > 700.00 and salario <= 1500.00:\n",
    "    aumento_salario_faixa = 0.10\n",
    "    salario_reajustado = (aumento_salario_faixa * salario) + salario\n",
    "else:\n",
    "    aumento_salario_faixa = 0.05\n",
    "    salario_reajustado = (aumento_salario_faixa * salario) + salario\n",
    "    \n",
    "print('O salário digitado foi {}. O aumento foi de {}. Foi aplicado o reajuste de {} % e o novo salário \\\n",
    "passa a ser de {} reais'.format(salario, (aumento_salario_faixa*salario),aumento_salario_faixa,salario_reajustado ))"
   ]
  },
  {
   "cell_type": "code",
   "execution_count": null,
   "id": "16240579",
   "metadata": {},
   "outputs": [],
   "source": []
  }
 ],
 "metadata": {
  "kernelspec": {
   "display_name": "Python 3 (ipykernel)",
   "language": "python",
   "name": "python3"
  },
  "language_info": {
   "codemirror_mode": {
    "name": "ipython",
    "version": 3
   },
   "file_extension": ".py",
   "mimetype": "text/x-python",
   "name": "python",
   "nbconvert_exporter": "python",
   "pygments_lexer": "ipython3",
   "version": "3.9.12"
  }
 },
 "nbformat": 4,
 "nbformat_minor": 5
}
