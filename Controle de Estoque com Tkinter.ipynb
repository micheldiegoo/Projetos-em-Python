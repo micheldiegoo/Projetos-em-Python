{
 "cells": [
  {
   "cell_type": "code",
   "execution_count": 1,
   "id": "f96af809",
   "metadata": {},
   "outputs": [
    {
     "name": "stdout",
     "output_type": "stream",
     "text": [
      "Requirement already satisfied: tk in c:\\users\\michel diego\\anaconda3\\lib\\site-packages (0.1.0)\n"
     ]
    }
   ],
   "source": [
    "!pip install tk"
   ]
  },
  {
   "cell_type": "code",
   "execution_count": 2,
   "id": "78d40162",
   "metadata": {},
   "outputs": [
    {
     "name": "stdout",
     "output_type": "stream",
     "text": [
      "['SQL Server', 'MySQL ODBC 8.0 ANSI Driver', 'MySQL ODBC 8.0 Unicode Driver', 'Microsoft Access Driver (*.mdb, *.accdb)', 'Microsoft Excel Driver (*.xls, *.xlsx, *.xlsm, *.xlsb)', 'Microsoft Access Text Driver (*.txt, *.csv)', 'SQLite3 ODBC Driver', 'SQLite ODBC Driver', 'SQLite ODBC (UTF-8) Driver']\n"
     ]
    }
   ],
   "source": [
    "from tkinter import *\n",
    "import pyodbc\n",
    "print(pyodbc.drivers())"
   ]
  },
  {
   "cell_type": "code",
   "execution_count": 3,
   "id": "a4319c5c",
   "metadata": {},
   "outputs": [],
   "source": [
    "window = Tk()"
   ]
  },
  {
   "cell_type": "code",
   "execution_count": 4,
   "id": "87b01ad7",
   "metadata": {},
   "outputs": [],
   "source": [
    "conexao = pyodbc.connect(\"Driver=SQLite3 ODBC Driver;Server=localhost; Database=Estoque.db\")\n",
    "cursor = conexao.cursor()"
   ]
  },
  {
   "cell_type": "code",
   "execution_count": 5,
   "id": "19e6bc55",
   "metadata": {},
   "outputs": [],
   "source": [
    "#CREATE\n",
    "def adicionar_insumo():\n",
    "    \n",
    "    cursor.execute(f'''\n",
    "    INSERT INTO Estoque (produto, quantidade, data, lote)\n",
    "    VALUES(\"{nome_insumo.get()}\", {qtde_insumo.get()}, \"{data_insumo.get()}\", {lote_insumo.get()}''')\n",
    "\n",
    "    cursor.commit()\n",
    "\n",
    "    # deletar tudo da caixa de texto\n",
    "    caixa_texto.delete(\"1.0\", END)\n",
    "    \n",
    "    # escrever na caixa de texto\n",
    "    caixa_texto.insert(\"1.0\", f\"{nome_insumo.get()} adicionado com sucesso!\")"
   ]
  },
  {
   "cell_type": "code",
   "execution_count": 6,
   "id": "6dc6992a",
   "metadata": {},
   "outputs": [],
   "source": [
    "#UPDATE\n",
    "def consumir_insumo():\n",
    "    if len(nome_insumo.get()) < 2 or len(lote_insumo.get()) < 1 or len(qtde_insumo.get()) < 1:\n",
    "        # exibir uma mensagem -> nome insumo inválido\n",
    "        # deletar tudo da caixa de texto\n",
    "        caixa_texto.delete(\"1.0\", END)\n",
    "        # escrever na caixa de texto\n",
    "        caixa_texto.insert(\"1.0\", f\"Nome, Lote e Quantidade do Insumo inválidos!\")\n",
    "        # finalizar a função\n",
    "        return\n",
    "    # consumir o insumo\n",
    "    cursor.execute(f'''\n",
    "    UPDATE Estoque\n",
    "    SET Quantidade=Quantidade-{qtde_insumo.get()}\n",
    "    WHERE produto=\"{nome_insumo.get()}\" AND Lote={lote_insumo.get()}\n",
    "    ''')\n",
    "    cursor.commit()\n",
    "    \n",
    "    # deletar tudo da caixa de texto\n",
    "    caixa_texto.delete(\"1.0\", END)\n",
    "    \n",
    "    # escrever na caixa de texto\n",
    "    caixa_texto.insert(\"1.0\", f\"{nome_insumo.get()} foi(oram) consumido(as) em {qtde_insumo.get()} unidade(s)!\") "
   ]
  },
  {
   "cell_type": "code",
   "execution_count": 7,
   "id": "b6750419",
   "metadata": {},
   "outputs": [],
   "source": [
    "#READ\n",
    "def visualizar_insumo():\n",
    "    if len(nome_insumo.get()) < 2:\n",
    "        # exibir uma mensagem -> nome insumo inválido\n",
    "        # deletar tudo da caixa de texto\n",
    "        caixa_texto.delete(\"1.0\", END)\n",
    "        # escrever na caixa de texto\n",
    "        caixa_texto.insert(\"1.0\", f\"Nome do Insumo inválido!\")\n",
    "        # finalizar a função\n",
    "        return\n",
    "\n",
    "    # pesquisar pelo insumo\n",
    "    cursor.execute(f'SELECT * FROM Estoque WHERE produto= \"{nome_insumo.get()}\"')\n",
    "    valores = cursor.fetchall()\n",
    "    \n",
    "    texto = ''\n",
    "    for id_produto, nome, quantidade, validade, lote in valores:\n",
    "        texto = texto + f'''\n",
    "        ---------------------\n",
    "        Produto: {nome}\n",
    "        Quantidade: {quantidade}\n",
    "        Validade: {validade}\n",
    "        Lote: {lote}\n",
    "        ---------------------\n",
    "        '''\n",
    "        # deletar tudo da caixa de texto\n",
    "        caixa_texto.delete(\"1.0\", END)\n",
    "        # escrever na caixa de texto\n",
    "        caixa_texto.insert(\"1.0\", texto) "
   ]
  },
  {
   "cell_type": "code",
   "execution_count": 8,
   "id": "e940fe73",
   "metadata": {},
   "outputs": [],
   "source": [
    "def deletar_insumo():\n",
    "    if len(nome_insumo.get()) < 2:\n",
    "        # exibir uma mensagem -> nome insumo inválido\n",
    "        # deletar tudo da caixa de texto\n",
    "        caixa_texto.delete(\"1.0\", END)\n",
    "        # escrever na caixa de texto\n",
    "        caixa_texto.insert(\"1.0\", f\"Nome do Insumo inválido!\")\n",
    "        # finalizar a função\n",
    "        return\n",
    "    \n",
    "    # deletar o insumo\n",
    "    cursor.execute(f'''\n",
    "    DELETE FROM Estoque \n",
    "    WHERE Produto=\"{nome_insumo.get()}\"\n",
    "    ''')\n",
    "    cursor.commit()\n",
    "    \n",
    "    # deletar tudo da caixa de texto\n",
    "    caixa_texto.delete(\"1.0\", END)\n",
    "    \n",
    "    # escrever na caixa de texto\n",
    "    caixa_texto.insert(\"1.0\", f\"{nome_insumo.get()} deletado com sucesso!\")    "
   ]
  },
  {
   "cell_type": "code",
   "execution_count": 9,
   "id": "58046bcb",
   "metadata": {},
   "outputs": [],
   "source": [
    "#DELETE\n",
    "def deletar_insumo():\n",
    "    if len(nome_insumo.get()) < 2:\n",
    "        # exibir uma mensagem -> nome insumo inválido\n",
    "        # deletar tudo da caixa de texto\n",
    "        caixa_texto.delete(\"1.0\", END)\n",
    "        # escrever na caixa de texto\n",
    "        caixa_texto.insert(\"1.0\", f\"Nome do Insumo inválido!\")\n",
    "        # finalizar a função\n",
    "        return\n",
    "    #deletar o insumo\n",
    "    cursor.execute(f'''\n",
    "    DELETE FROM Estoque WHERE produto=\"{nome_insumo.get()}\"\n",
    "    ''')\n",
    "\n",
    "    cursor.commit()\n",
    "    \n",
    "    # deletar tudo da caixa de texto\n",
    "    caixa_texto.delete(\"1.0\", END)\n",
    "    \n",
    "    # escrever na caixa de texto\n",
    "    caixa_texto.insert(\"1.0\", f\"{nome_insumo.get()} deletado com sucesso!\")  "
   ]
  }
 ],
 "metadata": {
  "kernelspec": {
   "display_name": "Python 3 (ipykernel)",
   "language": "python",
   "name": "python3"
  },
  "language_info": {
   "codemirror_mode": {
    "name": "ipython",
    "version": 3
   },
   "file_extension": ".py",
   "mimetype": "text/x-python",
   "name": "python",
   "nbconvert_exporter": "python",
   "pygments_lexer": "ipython3",
   "version": "3.9.12"
  }
 },
 "nbformat": 4,
 "nbformat_minor": 5
}
