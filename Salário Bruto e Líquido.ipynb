{
 "cells": [
  {
   "cell_type": "code",
   "execution_count": 1,
   "id": "08581ea4",
   "metadata": {},
   "outputs": [],
   "source": [
    "#9. Faça um programa para o cálculo de uma folha de pagamento, sabendo que os descontos são do Imposto de Renda, \n",
    "# que depende do salário bruto (conforme tabela abaixo) e 3% para o Sindicato e que o FGTS corresponde a 11% do Salário Bruto, \n",
    "# mas não é descontado (é a empresa que deposita). O Salário Líquido corresponde ao Salário Bruto menos os descontos. \n",
    "# O programa deverá pedir ao usuário o valor da sua hora e a quantidade de horas trabalhadas no mês.\n",
    "\n",
    "   # Desconto do IR:\n",
    "   # Salário Bruto até 900 (inclusive) - isento\n",
    "   # Salário Bruto até 1500 (inclusive) - desconto de 5%\n",
    "   # Salário Bruto até 2500 (inclusive) - desconto de 10%\n",
    "   # Salário Bruto acima de 2500 - desconto de 20% Imprima na tela as informações, \n",
    "   # dispostas conforme o exemplo abaixo. No exemplo o valor da hora é 5 e a quantidade de hora é 220.\n",
    "\n",
    "   # Salário Bruto: (5 * 220)              : R$ 1100,00\n",
    "   # (-) IR (5%)                           : R$   55,00 \n",
    "   # (-) INSS ( 10%)                       : R$  110,00\n",
    "   # FGTS (11%)                            : R$  121,00\n",
    "   # Total de descontos                    : R$  165,00\n",
    "   # Salário Liquido                       : R$  935,00"
   ]
  },
  {
   "cell_type": "code",
   "execution_count": 3,
   "id": "92a10ea2",
   "metadata": {},
   "outputs": [
    {
     "name": "stdout",
     "output_type": "stream",
     "text": [
      "Digite a quantidade de horas trabalhadas no mês: 209\n",
      "Digite o valor da hora trabalhada: 12.17\n",
      "Salário Bruto:           R$ 2543.53\n",
      "(-) IR:                  R$ 508.7060000000001\n",
      "(-) INSS:                R$ 254.35300000000004\n",
      "FGTS:                    R$ 279.78830000000005\n",
      "Total de descontos:      R$ 763.0590000000001\n",
      "Salário Líquido:         R$ 1780.471\n"
     ]
    }
   ],
   "source": [
    "horas = int(input('Digite a quantidade de horas trabalhadas no mês: '))\n",
    "valor_hora = float(input('Digite o valor da hora trabalhada: '))\n",
    "\n",
    "salario_bruto = horas * valor_hora\n",
    "\n",
    "if salario_bruto > 2500:\n",
    "    imposto_de_renda = salario_bruto * 0.2\n",
    "elif salario_bruto <= 2500 and salario_bruto > 1500:\n",
    "    imposto_de_renda = salario_bruto * 0.1\n",
    "elif salario_bruto <= 1500 and salario_bruto > 900 :\n",
    "    imposto_de_renda = salario_bruto * 0.5\n",
    "else:\n",
    "    imposto_de_renda = 0\n",
    "    \n",
    "inss = salario_bruto * 0.10\n",
    "fgts = salario_bruto * 0.11\n",
    "\n",
    "total_descontos = imposto_de_renda + inss\n",
    "salario_liquido = salario_bruto - imposto_de_renda - inss\n",
    "\n",
    "print('Salário Bruto:           R$ {}'.format(salario_bruto))\n",
    "print('(-) IR:                  R$ {}'.format(imposto_de_renda))\n",
    "print('(-) INSS:                R$ {}'.format(inss))\n",
    "print('FGTS:                    R$ {}'.format(fgts))\n",
    "print('Total de descontos:      R$ {}'.format(total_descontos))\n",
    "print('Salário Líquido:         R$ {}'.format(salario_liquido))"
   ]
  },
  {
   "cell_type": "code",
   "execution_count": null,
   "id": "a1b5688b",
   "metadata": {},
   "outputs": [],
   "source": []
  }
 ],
 "metadata": {
  "kernelspec": {
   "display_name": "Python 3 (ipykernel)",
   "language": "python",
   "name": "python3"
  },
  "language_info": {
   "codemirror_mode": {
    "name": "ipython",
    "version": 3
   },
   "file_extension": ".py",
   "mimetype": "text/x-python",
   "name": "python",
   "nbconvert_exporter": "python",
   "pygments_lexer": "ipython3",
   "version": "3.9.12"
  }
 },
 "nbformat": 4,
 "nbformat_minor": 5
}
