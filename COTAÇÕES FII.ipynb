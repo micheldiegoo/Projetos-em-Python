{
 "cells": [
  {
   "cell_type": "code",
   "execution_count": null,
   "id": "10a9ea63",
   "metadata": {},
   "outputs": [],
   "source": [
    "def buscar_cotacao(fundo):\n",
    "    import pandas as pd\n",
    "    from selenium import webdriver #criar um navegador\n",
    "    from selenium.webdriver.chrome.service import Service\n",
    "    from webdriver_manager.chrome import ChromeDriverManager\n",
    "    from selenium.webdriver.common.by import By #Localizar elementos (os itens de um site)\n",
    "    from selenium.webdriver.common.keys import Keys # Permite clicar em teclas do teclado\n",
    "    servico = Service(ChromeDriverManager().install())\n",
    "    navegador = webdriver.Chrome(service=servico)\n",
    "    lista_cotacao = []\n",
    "    for i in fundo:\n",
    "        navegador.get(\"https://www.google.com\")\n",
    "        navegador.find_element(By.XPATH, '/html/body/div[1]/div[3]/form/div[1]/div[1]/div[1]/div/div[2]/input').send_keys(i)\n",
    "        navegador.find_element(By.XPATH, '/html/body/div[1]/div[3]/form/div[1]/div[1]/div[1]/div/div[2]/input').send_keys(Keys.ENTER)\n",
    "        cotacao = navegador.find_element(By.XPATH, '//*[@id=\"knowledge-finance-wholepage__entity-summary\"]/div[3]/g-card-section/div/g-card-section/div[2]/div[1]/span[1]/span/span[1]').text\n",
    "        hora = navegador.find_element(By.XPATH,'//*[@id=\"knowledge-finance-wholepage__entity-summary\"]/div[3]/g-card-section/div/g-card-section/div[2]/div[1]/div[1]/span[1]/span[2]').text\n",
    "        lista_cotacao.append(cotacao)\n",
    "        cotacao_completa = dict(zip(fundo, lista_cotacao))\n",
    "        cotacao_fundos = pd.DataFrame.from_dict(cotacao_completa, orient='index')\n",
    "        cotacao_fundos = cotacao_fundos.rename(columns={0: 'Cotação Atual'})\n",
    "        cotacao_fundos['Cotação Atual'] = cotacao_fundos['Cotação Atual'].str.replace(',', '.').astype(float)\n",
    "        cotacao_fundos['Hora'] = hora\n",
    "    return cotacao_fundos"
   ]
  },
  {
   "cell_type": "code",
   "execution_count": 1,
   "id": "756f6539",
   "metadata": {},
   "outputs": [],
   "source": [
    "from selenium import webdriver #criar um navegador\n",
    "from selenium.webdriver.chrome.service import Service\n",
    "from webdriver_manager.chrome import ChromeDriverManager\n",
    "from selenium.webdriver.common.by import By #Localizar elementos (os itens de um site)\n",
    "from selenium.webdriver.common.keys import Keys # Permite clicar em teclas do teclado\n",
    "\n",
    "servico = Service(ChromeDriverManager().install())\n",
    "navegador = webdriver.Chrome(service=servico)\n"
   ]
  },
  {
   "cell_type": "code",
   "execution_count": 2,
   "id": "183a0388",
   "metadata": {},
   "outputs": [],
   "source": [
    "navegador.get(\"https://www.google.com\")"
   ]
  },
  {
   "cell_type": "code",
   "execution_count": 3,
   "id": "a8494247",
   "metadata": {},
   "outputs": [],
   "source": [
    "##TORD11\n",
    "\n",
    "navegador.find_element(By.XPATH, '/html/body/div[1]/div[3]/form/div[1]/div[1]/div[1]/div/div[2]/input').send_keys('TORD11')\n",
    "navegador.find_element(By.XPATH, '/html/body/div[1]/div[3]/form/div[1]/div[1]/div[1]/div/div[2]/input').send_keys(Keys.ENTER)\n",
    "tord11 = navegador.find_element(By.XPATH, '//*[@id=\"knowledge-finance-wholepage__entity-summary\"]/div[3]/g-card-section/div/g-card-section/div[2]/div[1]/span[1]/span/span[1]').text"
   ]
  },
  {
   "cell_type": "code",
   "execution_count": 4,
   "id": "78079d05",
   "metadata": {},
   "outputs": [],
   "source": [
    "##MXRF11\n",
    "\n",
    "navegador.find_element(By.XPATH, '//*[@id=\"tsf\"]/div[1]/div[1]/div[2]/div/div[2]/input').click()\n",
    "navegador.find_element(By.XPATH, '//*[@id=\"tsf\"]/div[1]/div[1]/div[2]/div/div[2]/input').send_keys(Keys.CONTROL + \"a\")\n",
    "navegador.find_element(By.XPATH, '//*[@id=\"tsf\"]/div[1]/div[1]/div[2]/div/div[2]/input').send_keys(Keys.DELETE)\n",
    "navegador.find_element(By.XPATH, '//*[@id=\"tsf\"]/div[1]/div[1]/div[2]/div/div[2]/input').send_keys('MXRF11')\n",
    "navegador.find_element(By.XPATH, '//*[@id=\"tsf\"]/div[1]/div[1]/div[2]/div/div[2]/input').send_keys(Keys.ENTER)\n",
    "mxrf11 = navegador.find_element(By.XPATH, '//*[@id=\"knowledge-finance-wholepage__entity-summary\"]/div[3]/g-card-section/div/g-card-section/div[2]/div[1]/span[1]/span/span[1]').text"
   ]
  },
  {
   "cell_type": "code",
   "execution_count": 5,
   "id": "adea2d0e",
   "metadata": {},
   "outputs": [],
   "source": [
    "##HABT11\n",
    "\n",
    "navegador.find_element(By.XPATH, '//*[@id=\"tsf\"]/div[1]/div[1]/div[2]/div/div[2]/input').click()\n",
    "navegador.find_element(By.XPATH, '//*[@id=\"tsf\"]/div[1]/div[1]/div[2]/div/div[2]/input').send_keys(Keys.CONTROL + \"a\")\n",
    "navegador.find_element(By.XPATH, '//*[@id=\"tsf\"]/div[1]/div[1]/div[2]/div/div[2]/input').send_keys(Keys.DELETE)\n",
    "navegador.find_element(By.XPATH, '//*[@id=\"tsf\"]/div[1]/div[1]/div[2]/div/div[2]/input').send_keys('HABT11')\n",
    "navegador.find_element(By.XPATH, '//*[@id=\"tsf\"]/div[1]/div[1]/div[2]/div/div[2]/input').send_keys(Keys.ENTER)\n",
    "habt11 = navegador.find_element(By.XPATH, '//*[@id=\"knowledge-finance-wholepage__entity-summary\"]/div[3]/g-card-section/div/g-card-section/div[2]/div[1]/span[1]/span/span[1]').text"
   ]
  },
  {
   "cell_type": "code",
   "execution_count": 6,
   "id": "8ec0e0c2",
   "metadata": {},
   "outputs": [],
   "source": [
    "##RZAK11\n",
    "\n",
    "navegador.find_element(By.XPATH, '//*[@id=\"tsf\"]/div[1]/div[1]/div[2]/div/div[2]/input').click()\n",
    "navegador.find_element(By.XPATH, '//*[@id=\"tsf\"]/div[1]/div[1]/div[2]/div/div[2]/input').send_keys(Keys.CONTROL + \"a\")\n",
    "navegador.find_element(By.XPATH, '//*[@id=\"tsf\"]/div[1]/div[1]/div[2]/div/div[2]/input').send_keys(Keys.DELETE)\n",
    "navegador.find_element(By.XPATH, '//*[@id=\"tsf\"]/div[1]/div[1]/div[2]/div/div[2]/input').send_keys('RZAK11')\n",
    "navegador.find_element(By.XPATH, '//*[@id=\"tsf\"]/div[1]/div[1]/div[2]/div/div[2]/input').send_keys(Keys.ENTER)\n",
    "rzak11 = navegador.find_element(By.XPATH, '//*[@id=\"knowledge-finance-wholepage__entity-summary\"]/div[3]/g-card-section/div/g-card-section/div[2]/div[1]/span[1]/span/span[1]').text"
   ]
  },
  {
   "cell_type": "code",
   "execution_count": 7,
   "id": "45c8b725",
   "metadata": {},
   "outputs": [],
   "source": [
    "##RZTR11\n",
    "\n",
    "navegador.find_element(By.XPATH, '//*[@id=\"tsf\"]/div[1]/div[1]/div[2]/div/div[2]/input').click()\n",
    "navegador.find_element(By.XPATH, '//*[@id=\"tsf\"]/div[1]/div[1]/div[2]/div/div[2]/input').send_keys(Keys.CONTROL + \"a\")\n",
    "navegador.find_element(By.XPATH, '//*[@id=\"tsf\"]/div[1]/div[1]/div[2]/div/div[2]/input').send_keys(Keys.DELETE)\n",
    "navegador.find_element(By.XPATH, '//*[@id=\"tsf\"]/div[1]/div[1]/div[2]/div/div[2]/input').send_keys('RZTR11')\n",
    "navegador.find_element(By.XPATH, '//*[@id=\"tsf\"]/div[1]/div[1]/div[2]/div/div[2]/input').send_keys(Keys.ENTER)\n",
    "rztr11 = navegador.find_element(By.XPATH, '//*[@id=\"knowledge-finance-wholepage__entity-summary\"]/div[3]/g-card-section/div/g-card-section/div[2]/div[1]/span[1]/span/span[1]').text"
   ]
  },
  {
   "cell_type": "code",
   "execution_count": 8,
   "id": "5546e34b",
   "metadata": {},
   "outputs": [],
   "source": [
    "##CACR11\n",
    "\n",
    "navegador.find_element(By.XPATH, '//*[@id=\"tsf\"]/div[1]/div[1]/div[2]/div/div[2]/input').click()\n",
    "navegador.find_element(By.XPATH, '//*[@id=\"tsf\"]/div[1]/div[1]/div[2]/div/div[2]/input').send_keys(Keys.CONTROL + \"a\")\n",
    "navegador.find_element(By.XPATH, '//*[@id=\"tsf\"]/div[1]/div[1]/div[2]/div/div[2]/input').send_keys(Keys.DELETE)\n",
    "navegador.find_element(By.XPATH, '//*[@id=\"tsf\"]/div[1]/div[1]/div[2]/div/div[2]/input').send_keys('CACR11')\n",
    "navegador.find_element(By.XPATH, '//*[@id=\"tsf\"]/div[1]/div[1]/div[2]/div/div[2]/input').send_keys(Keys.ENTER)\n",
    "cacr11 = navegador.find_element(By.XPATH, '//*[@id=\"knowledge-finance-wholepage__entity-summary\"]/div[3]/g-card-section/div/g-card-section/div[2]/div[1]/span[1]/span/span[1]').text"
   ]
  },
  {
   "cell_type": "code",
   "execution_count": 9,
   "id": "ec61b36e",
   "metadata": {},
   "outputs": [],
   "source": [
    "##ARRI11\n",
    "\n",
    "navegador.find_element(By.XPATH, '//*[@id=\"tsf\"]/div[1]/div[1]/div[2]/div/div[2]/input').click()\n",
    "navegador.find_element(By.XPATH, '//*[@id=\"tsf\"]/div[1]/div[1]/div[2]/div/div[2]/input').send_keys(Keys.CONTROL + \"a\")\n",
    "navegador.find_element(By.XPATH, '//*[@id=\"tsf\"]/div[1]/div[1]/div[2]/div/div[2]/input').send_keys(Keys.DELETE)\n",
    "navegador.find_element(By.XPATH, '//*[@id=\"tsf\"]/div[1]/div[1]/div[2]/div/div[2]/input').send_keys('ARRI11')\n",
    "navegador.find_element(By.XPATH, '//*[@id=\"tsf\"]/div[1]/div[1]/div[2]/div/div[2]/input').send_keys(Keys.ENTER)\n",
    "arri11 = navegador.find_element(By.XPATH, '//*[@id=\"knowledge-finance-wholepage__entity-summary\"]/div[3]/g-card-section/div/g-card-section/div[2]/div[1]/span[1]/span/span[1]').text"
   ]
  },
  {
   "cell_type": "code",
   "execution_count": 10,
   "id": "80ab7ed8",
   "metadata": {},
   "outputs": [],
   "source": [
    "##URPR11\n",
    "\n",
    "navegador.find_element(By.XPATH, '//*[@id=\"tsf\"]/div[1]/div[1]/div[2]/div/div[2]/input').click()\n",
    "navegador.find_element(By.XPATH, '//*[@id=\"tsf\"]/div[1]/div[1]/div[2]/div/div[2]/input').send_keys(Keys.CONTROL + \"a\")\n",
    "navegador.find_element(By.XPATH, '//*[@id=\"tsf\"]/div[1]/div[1]/div[2]/div/div[2]/input').send_keys(Keys.DELETE)\n",
    "navegador.find_element(By.XPATH, '//*[@id=\"tsf\"]/div[1]/div[1]/div[2]/div/div[2]/input').send_keys('URPR11')\n",
    "navegador.find_element(By.XPATH, '//*[@id=\"tsf\"]/div[1]/div[1]/div[2]/div/div[2]/input').send_keys(Keys.ENTER)\n",
    "urpr11 = navegador.find_element(By.XPATH, '//*[@id=\"knowledge-finance-wholepage__entity-summary\"]/div[3]/g-card-section/div/g-card-section/div[2]/div[1]/span[1]/span/span[1]').text"
   ]
  },
  {
   "cell_type": "code",
   "execution_count": 11,
   "id": "6e8c0c2b",
   "metadata": {},
   "outputs": [],
   "source": [
    "##IRDM11\n",
    "\n",
    "navegador.find_element(By.XPATH, '//*[@id=\"tsf\"]/div[1]/div[1]/div[2]/div/div[2]/input').click()\n",
    "navegador.find_element(By.XPATH, '//*[@id=\"tsf\"]/div[1]/div[1]/div[2]/div/div[2]/input').send_keys(Keys.CONTROL + \"a\")\n",
    "navegador.find_element(By.XPATH, '//*[@id=\"tsf\"]/div[1]/div[1]/div[2]/div/div[2]/input').send_keys(Keys.DELETE)\n",
    "navegador.find_element(By.XPATH, '//*[@id=\"tsf\"]/div[1]/div[1]/div[2]/div/div[2]/input').send_keys('IRDM11')\n",
    "navegador.find_element(By.XPATH, '//*[@id=\"tsf\"]/div[1]/div[1]/div[2]/div/div[2]/input').send_keys(Keys.ENTER)\n",
    "irdm11 = navegador.find_element(By.XPATH, '//*[@id=\"knowledge-finance-wholepage__entity-summary\"]/div[3]/g-card-section/div/g-card-section/div[2]/div[1]/span[1]/span/span[1]').text"
   ]
  },
  {
   "cell_type": "code",
   "execution_count": 12,
   "id": "d8786836",
   "metadata": {},
   "outputs": [],
   "source": [
    "##CPTS11\n",
    "\n",
    "navegador.find_element(By.XPATH, '//*[@id=\"tsf\"]/div[1]/div[1]/div[2]/div/div[2]/input').click()\n",
    "navegador.find_element(By.XPATH, '//*[@id=\"tsf\"]/div[1]/div[1]/div[2]/div/div[2]/input').send_keys(Keys.CONTROL + \"a\")\n",
    "navegador.find_element(By.XPATH, '//*[@id=\"tsf\"]/div[1]/div[1]/div[2]/div/div[2]/input').send_keys(Keys.DELETE)\n",
    "navegador.find_element(By.XPATH, '//*[@id=\"tsf\"]/div[1]/div[1]/div[2]/div/div[2]/input').send_keys('CPTS11')\n",
    "navegador.find_element(By.XPATH, '//*[@id=\"tsf\"]/div[1]/div[1]/div[2]/div/div[2]/input').send_keys(Keys.ENTER)\n",
    "cpts11 = navegador.find_element(By.XPATH, '//*[@id=\"knowledge-finance-wholepage__entity-summary\"]/div[3]/g-card-section/div/g-card-section/div[2]/div[1]/span[1]/span/span[1]').text"
   ]
  },
  {
   "cell_type": "code",
   "execution_count": 13,
   "id": "fead5792",
   "metadata": {},
   "outputs": [],
   "source": [
    "##KNCR11\n",
    "\n",
    "navegador.find_element(By.XPATH, '//*[@id=\"tsf\"]/div[1]/div[1]/div[2]/div/div[2]/input').click()\n",
    "navegador.find_element(By.XPATH, '//*[@id=\"tsf\"]/div[1]/div[1]/div[2]/div/div[2]/input').send_keys(Keys.CONTROL + \"a\")\n",
    "navegador.find_element(By.XPATH, '//*[@id=\"tsf\"]/div[1]/div[1]/div[2]/div/div[2]/input').send_keys(Keys.DELETE)\n",
    "navegador.find_element(By.XPATH, '//*[@id=\"tsf\"]/div[1]/div[1]/div[2]/div/div[2]/input').send_keys('KNCR11')\n",
    "navegador.find_element(By.XPATH, '//*[@id=\"tsf\"]/div[1]/div[1]/div[2]/div/div[2]/input').send_keys(Keys.ENTER)\n",
    "kncr11 = navegador.find_element(By.XPATH, '//*[@id=\"knowledge-finance-wholepage__entity-summary\"]/div[3]/g-card-section/div/g-card-section/div[2]/div[1]/span[1]/span/span[1]').text"
   ]
  },
  {
   "cell_type": "code",
   "execution_count": 14,
   "id": "8b8d357a",
   "metadata": {},
   "outputs": [],
   "source": [
    "##HGCR11\n",
    "\n",
    "navegador.find_element(By.XPATH, '//*[@id=\"tsf\"]/div[1]/div[1]/div[2]/div/div[2]/input').click()\n",
    "navegador.find_element(By.XPATH, '//*[@id=\"tsf\"]/div[1]/div[1]/div[2]/div/div[2]/input').send_keys(Keys.CONTROL + \"a\")\n",
    "navegador.find_element(By.XPATH, '//*[@id=\"tsf\"]/div[1]/div[1]/div[2]/div/div[2]/input').send_keys(Keys.DELETE)\n",
    "navegador.find_element(By.XPATH, '//*[@id=\"tsf\"]/div[1]/div[1]/div[2]/div/div[2]/input').send_keys('HGCR11')\n",
    "navegador.find_element(By.XPATH, '//*[@id=\"tsf\"]/div[1]/div[1]/div[2]/div/div[2]/input').send_keys(Keys.ENTER)\n",
    "hgcr11 = navegador.find_element(By.XPATH, '//*[@id=\"knowledge-finance-wholepage__entity-summary\"]/div[3]/g-card-section/div/g-card-section/div[2]/div[1]/span[1]/span/span[1]').text"
   ]
  },
  {
   "cell_type": "code",
   "execution_count": 15,
   "id": "f28e634c",
   "metadata": {},
   "outputs": [],
   "source": [
    "##HCTR11\n",
    "\n",
    "navegador.find_element(By.XPATH, '//*[@id=\"tsf\"]/div[1]/div[1]/div[2]/div/div[2]/input').click()\n",
    "navegador.find_element(By.XPATH, '//*[@id=\"tsf\"]/div[1]/div[1]/div[2]/div/div[2]/input').send_keys(Keys.CONTROL + \"a\")\n",
    "navegador.find_element(By.XPATH, '//*[@id=\"tsf\"]/div[1]/div[1]/div[2]/div/div[2]/input').send_keys(Keys.DELETE)\n",
    "navegador.find_element(By.XPATH, '//*[@id=\"tsf\"]/div[1]/div[1]/div[2]/div/div[2]/input').send_keys('HCTR11')\n",
    "navegador.find_element(By.XPATH, '//*[@id=\"tsf\"]/div[1]/div[1]/div[2]/div/div[2]/input').send_keys(Keys.ENTER)\n",
    "hctr11 = navegador.find_element(By.XPATH, '//*[@id=\"knowledge-finance-wholepage__entity-summary\"]/div[3]/g-card-section/div/g-card-section/div[2]/div[1]/span[1]/span/span[1]').text"
   ]
  },
  {
   "cell_type": "code",
   "execution_count": 16,
   "id": "923d5949",
   "metadata": {},
   "outputs": [],
   "source": [
    "##RECR11\n",
    "\n",
    "navegador.find_element(By.XPATH, '//*[@id=\"tsf\"]/div[1]/div[1]/div[2]/div/div[2]/input').click()\n",
    "navegador.find_element(By.XPATH, '//*[@id=\"tsf\"]/div[1]/div[1]/div[2]/div/div[2]/input').send_keys(Keys.CONTROL + \"a\")\n",
    "navegador.find_element(By.XPATH, '//*[@id=\"tsf\"]/div[1]/div[1]/div[2]/div/div[2]/input').send_keys(Keys.DELETE)\n",
    "navegador.find_element(By.XPATH, '//*[@id=\"tsf\"]/div[1]/div[1]/div[2]/div/div[2]/input').send_keys('RECR11')\n",
    "navegador.find_element(By.XPATH, '//*[@id=\"tsf\"]/div[1]/div[1]/div[2]/div/div[2]/input').send_keys(Keys.ENTER)\n",
    "recr11 = navegador.find_element(By.XPATH, '//*[@id=\"knowledge-finance-wholepage__entity-summary\"]/div[3]/g-card-section/div/g-card-section/div[2]/div[1]/span[1]/span/span[1]').text"
   ]
  },
  {
   "cell_type": "code",
   "execution_count": 17,
   "id": "a61e08ed",
   "metadata": {},
   "outputs": [],
   "source": [
    "##PLRI11\n",
    "\n",
    "navegador.find_element(By.XPATH, '//*[@id=\"tsf\"]/div[1]/div[1]/div[2]/div/div[2]/input').click()\n",
    "navegador.find_element(By.XPATH, '//*[@id=\"tsf\"]/div[1]/div[1]/div[2]/div/div[2]/input').send_keys(Keys.CONTROL + \"a\")\n",
    "navegador.find_element(By.XPATH, '//*[@id=\"tsf\"]/div[1]/div[1]/div[2]/div/div[2]/input').send_keys(Keys.DELETE)\n",
    "navegador.find_element(By.XPATH, '//*[@id=\"tsf\"]/div[1]/div[1]/div[2]/div/div[2]/input').send_keys('PLRI11')\n",
    "navegador.find_element(By.XPATH, '//*[@id=\"tsf\"]/div[1]/div[1]/div[2]/div/div[2]/input').send_keys(Keys.ENTER)\n",
    "plri11 = navegador.find_element(By.XPATH, '//*[@id=\"knowledge-finance-wholepage__entity-summary\"]/div[3]/g-card-section/div/g-card-section/div[2]/div[1]/span[1]/span/span[1]').text"
   ]
  },
  {
   "cell_type": "code",
   "execution_count": 18,
   "id": "2b782ea5",
   "metadata": {},
   "outputs": [],
   "source": [
    "fundos = ('TORD11','MXRF11', 'HABT11', 'RZAK11', 'RZTR11', 'CACR11', 'ARRI11', 'URPR11', 'IRDM11', 'CPTS11', 'KNCR11', 'HGCR11', 'HCTR11', 'RECR11', 'PLRI11') \n",
    "valores = (tord11, mxrf11, habt11, rzak11, rztr11, cacr11, arri11, urpr11, irdm11, cpts11, kncr11, hgcr11, hctr11, recr11, plri11)"
   ]
  },
  {
   "cell_type": "code",
   "execution_count": 19,
   "id": "5ade47b5",
   "metadata": {},
   "outputs": [],
   "source": [
    "cotacoes = dict(zip(fundos, valores))"
   ]
  },
  {
   "cell_type": "code",
   "execution_count": 20,
   "id": "da9ac531",
   "metadata": {},
   "outputs": [],
   "source": [
    "import pandas as pd"
   ]
  },
  {
   "cell_type": "code",
   "execution_count": 22,
   "id": "5b5d4ff6",
   "metadata": {},
   "outputs": [],
   "source": [
    "cotacoes_df = pd.DataFrame.from_dict(cotacoes, orient='index')\n",
    "cotacoes_df = cotacoes_df.rename(columns={0: 'Cotação'})\n",
    "cotacoes_df['Cotação'] = cotacoes_df['Cotação'].str.replace(',', '.').astype(float)\n"
   ]
  },
  {
   "cell_type": "code",
   "execution_count": 23,
   "id": "4f39aaf2",
   "metadata": {},
   "outputs": [
    {
     "data": {
      "text/html": [
       "<div>\n",
       "<style scoped>\n",
       "    .dataframe tbody tr th:only-of-type {\n",
       "        vertical-align: middle;\n",
       "    }\n",
       "\n",
       "    .dataframe tbody tr th {\n",
       "        vertical-align: top;\n",
       "    }\n",
       "\n",
       "    .dataframe thead th {\n",
       "        text-align: right;\n",
       "    }\n",
       "</style>\n",
       "<table border=\"1\" class=\"dataframe\">\n",
       "  <thead>\n",
       "    <tr style=\"text-align: right;\">\n",
       "      <th></th>\n",
       "      <th>Cotação</th>\n",
       "    </tr>\n",
       "  </thead>\n",
       "  <tbody>\n",
       "    <tr>\n",
       "      <th>TORD11</th>\n",
       "      <td>8.16</td>\n",
       "    </tr>\n",
       "    <tr>\n",
       "      <th>MXRF11</th>\n",
       "      <td>10.30</td>\n",
       "    </tr>\n",
       "    <tr>\n",
       "      <th>HABT11</th>\n",
       "      <td>96.01</td>\n",
       "    </tr>\n",
       "    <tr>\n",
       "      <th>RZAK11</th>\n",
       "      <td>104.40</td>\n",
       "    </tr>\n",
       "    <tr>\n",
       "      <th>RZTR11</th>\n",
       "      <td>103.77</td>\n",
       "    </tr>\n",
       "    <tr>\n",
       "      <th>CACR11</th>\n",
       "      <td>101.20</td>\n",
       "    </tr>\n",
       "    <tr>\n",
       "      <th>ARRI11</th>\n",
       "      <td>9.05</td>\n",
       "    </tr>\n",
       "    <tr>\n",
       "      <th>URPR11</th>\n",
       "      <td>101.95</td>\n",
       "    </tr>\n",
       "    <tr>\n",
       "      <th>IRDM11</th>\n",
       "      <td>103.16</td>\n",
       "    </tr>\n",
       "    <tr>\n",
       "      <th>CPTS11</th>\n",
       "      <td>92.78</td>\n",
       "    </tr>\n",
       "    <tr>\n",
       "      <th>KNCR11</th>\n",
       "      <td>101.15</td>\n",
       "    </tr>\n",
       "    <tr>\n",
       "      <th>HGCR11</th>\n",
       "      <td>104.06</td>\n",
       "    </tr>\n",
       "    <tr>\n",
       "      <th>HCTR11</th>\n",
       "      <td>102.14</td>\n",
       "    </tr>\n",
       "    <tr>\n",
       "      <th>RECR11</th>\n",
       "      <td>88.69</td>\n",
       "    </tr>\n",
       "    <tr>\n",
       "      <th>PLRI11</th>\n",
       "      <td>26.23</td>\n",
       "    </tr>\n",
       "  </tbody>\n",
       "</table>\n",
       "</div>"
      ],
      "text/plain": [
       "        Cotação\n",
       "TORD11     8.16\n",
       "MXRF11    10.30\n",
       "HABT11    96.01\n",
       "RZAK11   104.40\n",
       "RZTR11   103.77\n",
       "CACR11   101.20\n",
       "ARRI11     9.05\n",
       "URPR11   101.95\n",
       "IRDM11   103.16\n",
       "CPTS11    92.78\n",
       "KNCR11   101.15\n",
       "HGCR11   104.06\n",
       "HCTR11   102.14\n",
       "RECR11    88.69\n",
       "PLRI11    26.23"
      ]
     },
     "metadata": {},
     "output_type": "display_data"
    }
   ],
   "source": [
    "display(cotacoes_df)"
   ]
  },
  {
   "cell_type": "code",
   "execution_count": null,
   "id": "d7fa2d88",
   "metadata": {},
   "outputs": [],
   "source": [
    "cotacoes_df = cotacoes_df.rename(columns={0: 'Cotação'})\n",
    "cotacoes_df = cotacoes_df.rename_axis('Fundos')\n",
    "\n",
    "display(cotacoes_df)"
   ]
  },
  {
   "cell_type": "code",
   "execution_count": 26,
   "id": "4a0847b0",
   "metadata": {},
   "outputs": [
    {
     "data": {
      "text/plain": [
       "<AxesSubplot:>"
      ]
     },
     "execution_count": 26,
     "metadata": {},
     "output_type": "execute_result"
    },
    {
     "data": {
      "image/png": "[encoded data removed]",
      "text/plain": [
       "<Figure size 432x288 with 1 Axes>"
      ]
     },
     "metadata": {
      "needs_background": "light"
     },
     "output_type": "display_data"
    }
   ],
   "source": [
    "cotacoes_df.plot()"
   ]
  },
  {
   "cell_type": "code",
   "execution_count": 29,
   "id": "f2da514c",
   "metadata": {},
   "outputs": [
    {
     "data": {
      "text/plain": [
       "<AxesSubplot:>"
      ]
     },
     "execution_count": 29,
     "metadata": {},
     "output_type": "execute_result"
    },
    {
     "data": {
      "image/png": "[encoded data removed]",
      "text/plain": [
       "<Figure size 432x288 with 1 Axes>"
      ]
     },
     "metadata": {
      "needs_background": "light"
     },
     "output_type": "display_data"
    }
   ],
   "source": [
    "cotacoes_df['Cotação'].plot(kind='area')"
   ]
  },
  {
   "cell_type": "code",
   "execution_count": null,
   "id": "b0ec72ff",
   "metadata": {},
   "outputs": [],
   "source": [
    "cotacoes_df.to_excel(r\"C:\\Users\\Michel Diego\\Downloads\\COTACOES.xlsx\", sheet_name= 'Cotações Fii')"
   ]
  }
 ],
 "metadata": {
  "kernelspec": {
   "display_name": "Python 3 (ipykernel)",
   "language": "python",
   "name": "python3"
  },
  "language_info": {
   "codemirror_mode": {
    "name": "ipython",
    "version": 3
   },
   "file_extension": ".py",
   "mimetype": "text/x-python",
   "name": "python",
   "nbconvert_exporter": "python",
   "pygments_lexer": "ipython3",
   "version": "3.9.12"
  }
 },
 "nbformat": 4,
 "nbformat_minor": 5
}
