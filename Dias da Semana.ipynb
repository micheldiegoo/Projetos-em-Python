{
 "cells": [
  {
   "cell_type": "code",
   "execution_count": 4,
   "id": "f0fbde2e",
   "metadata": {},
   "outputs": [
    {
     "name": "stdout",
     "output_type": "stream",
     "text": [
      "Digite um número entre 1 e 7: 1\n",
      "Domingo\n"
     ]
    }
   ],
   "source": [
    "#10. Faça um Programa que leia um número e exiba o dia correspondente da semana. \n",
    "#(1-Domingo, 2- Segunda, etc.), se digitar outro valor deve aparecer valor inválido.\n",
    "\n",
    "dia_da_semana = int(input('Digite um número entre 1 e 7: '))\n",
    "\n",
    "if dia_da_semana > 7:\n",
    "    print('Digite um valor no intervalo citado!')\n",
    "elif dia_da_semana == 7:\n",
    "    print('Sábado')\n",
    "elif dia_da_semana == 6:\n",
    "    print('Sexta')\n",
    "elif dia_da_semana == 5:\n",
    "    print('Quinta')\n",
    "elif dia_da_semana == 4:\n",
    "    print('Quarta')\n",
    "elif dia_da_semana == 3:\n",
    "    print('Terça')\n",
    "elif dia_da_semana == 2:\n",
    "    print('Segunda')\n",
    "else:\n",
    "    print('Domingo')"
   ]
  },
  {
   "cell_type": "code",
   "execution_count": null,
   "id": "0e864385",
   "metadata": {},
   "outputs": [],
   "source": []
  }
 ],
 "metadata": {
  "kernelspec": {
   "display_name": "Python 3 (ipykernel)",
   "language": "python",
   "name": "python3"
  },
  "language_info": {
   "codemirror_mode": {
    "name": "ipython",
    "version": 3
   },
   "file_extension": ".py",
   "mimetype": "text/x-python",
   "name": "python",
   "nbconvert_exporter": "python",
   "pygments_lexer": "ipython3",
   "version": "3.9.12"
  }
 },
 "nbformat": 4,
 "nbformat_minor": 5
}
